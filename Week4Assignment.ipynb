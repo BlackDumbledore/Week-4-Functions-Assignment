{
 "cells": [
  {
   "cell_type": "code",
   "execution_count": null,
   "id": "62c53660-586e-45a4-9b2c-3e1bec358823",
   "metadata": {},
   "outputs": [],
   "source": [
    "#Write a Python program to check whether a string is a palindrome or not using a stack."
   ]
  },
  {
   "cell_type": "code",
   "execution_count": 13,
   "id": "c4b48f1d-f960-4df4-bea5-5672960d4a52",
   "metadata": {},
   "outputs": [
    {
     "name": "stdout",
     "output_type": "stream",
     "text": [
      "False\n"
     ]
    }
   ],
   "source": [
    "Class_Name='stack'\n",
    "if Class_Name in locals():\n",
    "    print (\"TRUE\")\n",
    "else: \n",
    "    print (\"False\")"
   ]
  },
  {
   "cell_type": "code",
   "execution_count": null,
   "id": "d69fa652-53a7-4556-9fb9-342118356785",
   "metadata": {},
   "outputs": [],
   "source": [
    "#Since the Stack class is not available, we will have to define it and use it to implement our palindrome function"
   ]
  },
  {
   "cell_type": "code",
   "execution_count": 51,
   "id": "4af1c631-35ee-44c9-b01b-0f0fca0d98ee",
   "metadata": {},
   "outputs": [],
   "source": [
    "class stack:\n",
    "    def __init__(self):\n",
    "        self.items = []\n",
    "    def is_empty(self):\n",
    "        return self.items == []\n",
    "    def push(self, item):\n",
    "        self.items.append(item)\n",
    "    def pop(self):\n",
    "        return self.items.pop()\n",
    "    def size(self):\n",
    "        return len(self.items)\n",
    "    def is_palindrome(input_string):\n",
    "        stack = stack()\n",
    "        for char in input_string:\n",
    "            stack.push(char)\n",
    "        reversed_string = ''\n",
    "        while not stack.is_empty():\n",
    "            reversed_string += stack.pop()\n",
    "        return input_string == reversed_string"
   ]
  },
  {
   "cell_type": "code",
   "execution_count": 53,
   "id": "b8c12ba9-c5c0-45ac-b3af-bc17e751981a",
   "metadata": {},
   "outputs": [
    {
     "name": "stdout",
     "output_type": "stream",
     "text": [
      "TRUE\n"
     ]
    }
   ],
   "source": [
    "Class_Name='stack'\n",
    "if Class_Name in globals():\n",
    "    print (\"TRUE\")\n",
    "else: \n",
    "    print (\"False\")"
   ]
  },
  {
   "cell_type": "code",
   "execution_count": null,
   "id": "e99ad105-b9e5-45ba-8170-42f171e5601f",
   "metadata": {},
   "outputs": [],
   "source": [
    "#Now that we have defined the Stack class and implemented the function is_palindrome, we can now check using a practical example if a word is indeed a palindrome.\n",
    "#We will use the word calculator and rotator"
   ]
  },
  {
   "cell_type": "code",
   "execution_count": 59,
   "id": "07ae8a72-4a0b-4419-b18a-446bc43ec722",
   "metadata": {},
   "outputs": [
    {
     "name": "stdout",
     "output_type": "stream",
     "text": [
      "'calculator' is not a palindrome.\n"
     ]
    }
   ],
   "source": [
    "def is_palindrome(s):\n",
    "    return s == s[::-1]\n",
    "input_string = \"calculator\"\n",
    "if is_palindrome(input_string):\n",
    "    print(f\"'{input_string}' is a palindrome.\")\n",
    "else:\n",
    "    print(f\"'{input_string}' is not a palindrome.\")"
   ]
  },
  {
   "cell_type": "code",
   "execution_count": 61,
   "id": "06e1c6dd-49a6-4733-938e-ff37a673eae3",
   "metadata": {},
   "outputs": [
    {
     "name": "stdout",
     "output_type": "stream",
     "text": [
      "'rotator' is a palindrome.\n"
     ]
    }
   ],
   "source": [
    "def is_palindrome(s):\n",
    "    return s == s[::-1]\n",
    "input_string = \"rotator\"\n",
    "if is_palindrome(input_string):\n",
    "    print(f\"'{input_string}' is a palindrome.\")\n",
    "else:\n",
    "    print(f\"'{input_string}' is not a palindrome.\")"
   ]
  },
  {
   "cell_type": "code",
   "execution_count": null,
   "id": "4e32efd2-4de7-49be-867b-b3a012609581",
   "metadata": {},
   "outputs": [],
   "source": [
    "#2.Explain the concept of list comprehension in Python with at least three examples."
   ]
  },
  {
   "cell_type": "code",
   "execution_count": null,
   "id": "0456d0a9-0598-4aa5-a969-8f5db6da0cec",
   "metadata": {},
   "outputs": [],
   "source": [
    "#List comprehension can be defined as a syntatic construct used to create a list based on exisiting lists."
   ]
  },
  {
   "cell_type": "code",
   "execution_count": null,
   "id": "33438a65-c1cc-438a-bbad-60b68f3ce9b4",
   "metadata": {},
   "outputs": [],
   "source": [
    "#For instance if we want to find the list of fruits that have a letter a in them from an existing list."
   ]
  },
  {
   "cell_type": "code",
   "execution_count": 77,
   "id": "5a826433-41f0-49be-8ca0-d16138ffe45c",
   "metadata": {},
   "outputs": [],
   "source": [
    "Fruits=[\"apple\",\"cantaloupe\",\"mango\",\"plum\",\"kiwi\",\"lemon\",\"avocado\",\"cherry\"]"
   ]
  },
  {
   "cell_type": "code",
   "execution_count": 79,
   "id": "04178dbc-cdf1-4b9f-b87f-9bb9e01ea3fa",
   "metadata": {},
   "outputs": [
    {
     "name": "stdout",
     "output_type": "stream",
     "text": [
      "['apple', 'cantaloupe', 'mango', 'plum', 'kiwi', 'lemon', 'avocado', 'cherry']\n"
     ]
    }
   ],
   "source": [
    "print(Fruits)"
   ]
  },
  {
   "cell_type": "code",
   "execution_count": 85,
   "id": "e5584b8a-2d44-4413-9712-be65932ca016",
   "metadata": {},
   "outputs": [],
   "source": [
    "Newfruitlist=[NFL for NFL in Fruits if \"a\" in NFL]"
   ]
  },
  {
   "cell_type": "code",
   "execution_count": 87,
   "id": "44c8d8f6-45c3-41b6-aa44-56376e8ef13d",
   "metadata": {},
   "outputs": [
    {
     "name": "stdout",
     "output_type": "stream",
     "text": [
      "['apple', 'cantaloupe', 'mango', 'avocado']\n"
     ]
    }
   ],
   "source": [
    "print(Newfruitlist)"
   ]
  },
  {
   "cell_type": "code",
   "execution_count": null,
   "id": "5f13c1cc-49be-41ff-982d-8547cd4e1f5a",
   "metadata": {},
   "outputs": [],
   "source": [
    "#Without list comprehension, the above exercise would have to be performed using a 'for' statement with a conditional statement included"
   ]
  },
  {
   "cell_type": "code",
   "execution_count": null,
   "id": "782101a9-cd7f-430a-b2f9-fc8703d0bc53",
   "metadata": {},
   "outputs": [],
   "source": [
    "#Another example is if we want to create a list of even numbers from an initial list of numbers 0 to 20"
   ]
  },
  {
   "cell_type": "code",
   "execution_count": 91,
   "id": "7233d5aa-a096-4cb0-beac-fcee35a3222a",
   "metadata": {},
   "outputs": [],
   "source": [
    "Number_List=(0,1,2,3,4,5,6,7,8,9,10,11,12,13,14,15,16,17,18,19,20)"
   ]
  },
  {
   "cell_type": "code",
   "execution_count": 93,
   "id": "1bda0969-694b-4c9e-afc2-7c480ff155b0",
   "metadata": {},
   "outputs": [
    {
     "name": "stdout",
     "output_type": "stream",
     "text": [
      "(0, 1, 2, 3, 4, 5, 6, 7, 8, 9, 10, 11, 12, 13, 14, 15, 16, 17, 18, 19, 20)\n"
     ]
    }
   ],
   "source": [
    "print (Number_List)"
   ]
  },
  {
   "cell_type": "code",
   "execution_count": 99,
   "id": "e9a2e184-043f-40c3-a8a0-644b464b5d30",
   "metadata": {},
   "outputs": [
    {
     "name": "stdout",
     "output_type": "stream",
     "text": [
      "[0, 2, 4, 6, 8, 10, 12, 14, 16, 18, 20]\n"
     ]
    }
   ],
   "source": [
    "Even_List=[Even_List for Even_List in Number_List if Even_List%2==0]\n",
    "print(Even_List)"
   ]
  },
  {
   "cell_type": "code",
   "execution_count": null,
   "id": "18dfe305-5fc1-4b43-89c4-ada0ff323950",
   "metadata": {},
   "outputs": [],
   "source": [
    "#Please note when defining your list comprehension syntax you should enclose it in square brackets"
   ]
  },
  {
   "cell_type": "code",
   "execution_count": null,
   "id": "50407d7c-4ef2-42b8-8f98-17e07bc04b8b",
   "metadata": {},
   "outputs": [],
   "source": [
    "#Another example is if we want to return the list of fruits that do not have a in them."
   ]
  },
  {
   "cell_type": "code",
   "execution_count": 101,
   "id": "3e655017-af31-4806-9b18-885c8d9c97a1",
   "metadata": {},
   "outputs": [
    {
     "name": "stdout",
     "output_type": "stream",
     "text": [
      "['apple', 'cantaloupe', 'mango', 'plum', 'kiwi', 'lemon', 'avocado', 'cherry']\n"
     ]
    }
   ],
   "source": [
    "print(Fruits)"
   ]
  },
  {
   "cell_type": "code",
   "execution_count": 105,
   "id": "2a68d3ce-a242-46c6-9545-2b9c0e6c7bc3",
   "metadata": {},
   "outputs": [],
   "source": [
    "Newfruitlist2=[NFL for NFL in Fruits if \"a\" not in NFL]"
   ]
  },
  {
   "cell_type": "code",
   "execution_count": 107,
   "id": "9a06e8c2-9f78-45ac-a528-0ea8fd41ebae",
   "metadata": {},
   "outputs": [
    {
     "name": "stdout",
     "output_type": "stream",
     "text": [
      "['plum', 'kiwi', 'lemon', 'cherry']\n"
     ]
    }
   ],
   "source": [
    "print (Newfruitlist2)"
   ]
  },
  {
   "cell_type": "code",
   "execution_count": null,
   "id": "f4c337ad-e1a2-47f6-9935-86fb4e74d688",
   "metadata": {},
   "outputs": [],
   "source": [
    "#3. Explain what a compound datatype is in Python with three examples."
   ]
  },
  {
   "cell_type": "code",
   "execution_count": null,
   "id": "87353878-5873-4e07-9260-c7dbc66dae89",
   "metadata": {},
   "outputs": [],
   "source": [
    "# A compound data type is a type of data that is made up of multiple values or data types.\n",
    "#In python lists, tuples and dictionaries are good examples of compound datat types."
   ]
  },
  {
   "cell_type": "code",
   "execution_count": 109,
   "id": "a9e513c5-2495-4869-8135-dafea35013aa",
   "metadata": {},
   "outputs": [
    {
     "name": "stdout",
     "output_type": "stream",
     "text": [
      "[1, 2, 3, 'Apple', 'Volvo', 'Sam', 490]\n"
     ]
    }
   ],
   "source": [
    "#For instance lets have a list 1 and define it as\n",
    "list1=[1,2,3,\"Apple\",\"Volvo\",\"Sam\",490,]\n",
    "print(list1)"
   ]
  },
  {
   "cell_type": "code",
   "execution_count": null,
   "id": "42e8b43e-5926-48d1-98e4-74aab6426c9a",
   "metadata": {},
   "outputs": [],
   "source": [
    "#lists are ordered, changeable and can hold items of different types."
   ]
  },
  {
   "cell_type": "code",
   "execution_count": null,
   "id": "727b41a2-914c-4c46-8c02-513b4a39d1c7",
   "metadata": {},
   "outputs": [],
   "source": [
    "#Tuples are ordered, UNCHAGEABLE and can hold items of different types."
   ]
  },
  {
   "cell_type": "code",
   "execution_count": 111,
   "id": "e537ef51-8f1b-47f9-a14f-fb2e3f46103c",
   "metadata": {},
   "outputs": [
    {
     "name": "stdout",
     "output_type": "stream",
     "text": [
      "(1, 2, 3, 'a', 'b', (4, 5))\n"
     ]
    }
   ],
   "source": [
    "my_tuple = (1, 2, 3, 'a', 'b', (4, 5))\n",
    "print(my_tuple)"
   ]
  },
  {
   "cell_type": "code",
   "execution_count": null,
   "id": "20c59294-fc3d-446a-ba70-27abccbb6c44",
   "metadata": {},
   "outputs": [],
   "source": [
    "#Dictionaries are unordered collections of key-value pairs, where each key is unique"
   ]
  },
  {
   "cell_type": "code",
   "execution_count": 113,
   "id": "b4a909f9-f17b-4b08-afec-3fd473534fff",
   "metadata": {},
   "outputs": [
    {
     "name": "stdout",
     "output_type": "stream",
     "text": [
      "{'name': 'Alice', 'age': 30, 'city': 'New York', 'spouse': 'No', 'education': 'BSc. Operations Research'}\n"
     ]
    }
   ],
   "source": [
    "Dict1 = {'name': 'Alice', 'age': 30, 'city': 'New York','spouse':'No','education':'BSc. Operations Research'}\n",
    "print(Dict1)"
   ]
  },
  {
   "cell_type": "code",
   "execution_count": null,
   "id": "4e29a7f8-6df1-4864-8189-5ae0a040721a",
   "metadata": {},
   "outputs": [],
   "source": [
    "#4. Write a function that takes a string and returns a list of bigrams."
   ]
  },
  {
   "cell_type": "code",
   "execution_count": null,
   "id": "ea8e4330-c069-4bdb-8f45-f6db4779c030",
   "metadata": {},
   "outputs": [],
   "source": [
    "#To generate bigrams from a string we first split the string into words or characters then we generate pairs of adjacent elements."
   ]
  },
  {
   "cell_type": "code",
   "execution_count": 133,
   "id": "a0b2014b-0729-4aa3-aa65-133f94d90f53",
   "metadata": {},
   "outputs": [],
   "source": [
    "#Start by defining your bigrams class\n",
    "def generate_bigrams(string):\n",
    "#Split the string into words\n",
    "    words=string.split()\n",
    "#Generate the bigrams using the below function\n",
    "    bigrams = [(words[i], words[i+1]) for i in range(len(words)-1)]\n",
    "    return bigrams"
   ]
  },
  {
   "cell_type": "code",
   "execution_count": 135,
   "id": "09f27a73-d7df-4a6d-b31b-bcea998f14f5",
   "metadata": {},
   "outputs": [
    {
     "name": "stdout",
     "output_type": "stream",
     "text": [
      "[('Barcelona', 'is'), ('is', 'the'), ('the', 'greatest'), ('greatest', 'team'), ('team', 'in'), ('in', 'the'), ('the', 'world')]\n"
     ]
    }
   ],
   "source": [
    "string=\"Barcelona is the greatest team in the world\"\n",
    "bigrams= generate_bigrams(string)\n",
    "print(bigrams)"
   ]
  },
  {
   "cell_type": "code",
   "execution_count": null,
   "id": "ccb53cbf-493e-40eb-839e-1a954e0577ff",
   "metadata": {},
   "outputs": [],
   "source": [
    "#5. Given a dictionary with keys as letters and values as lists of letters, write a function closest_key to find the key with the input value closest to the beginning of the list."
   ]
  },
  {
   "cell_type": "code",
   "execution_count": 139,
   "id": "eae8cd94-526a-4e1e-a484-f1e32b2481e6",
   "metadata": {},
   "outputs": [],
   "source": [
    "def closest_key(input_dict, value):\n",
    "    closest = None\n",
    "    min_index = float('inf')\n",
    "    for key, lst in input_dict.items():\n",
    "        if value in lst:\n",
    "            index = lst.index(value)\n",
    "            if index < min_index:\n",
    "                min_index = index\n",
    "                closest = key\n",
    "    return closest"
   ]
  },
  {
   "cell_type": "code",
   "execution_count": null,
   "id": "bfd81604-a7cd-4189-8dc8-c47087a30aec",
   "metadata": {},
   "outputs": [],
   "source": []
  }
 ],
 "metadata": {
  "kernelspec": {
   "display_name": "anaconda-ai-2024.04-py310",
   "language": "python",
   "name": "conda-env-anaconda-ai-2024.04-py310-py"
  },
  "language_info": {
   "codemirror_mode": {
    "name": "ipython",
    "version": 3
   },
   "file_extension": ".py",
   "mimetype": "text/x-python",
   "name": "python",
   "nbconvert_exporter": "python",
   "pygments_lexer": "ipython3",
   "version": "3.10.13"
  }
 },
 "nbformat": 4,
 "nbformat_minor": 5
}
